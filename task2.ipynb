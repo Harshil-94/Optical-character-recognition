{
 "cells": [
  {
   "cell_type": "code",
   "execution_count": 5,
   "metadata": {},
   "outputs": [],
   "source": [
    "from PIL import Image\n",
    "from pytesseract import pytesseract\n",
    "import os"
   ]
  },
  {
   "cell_type": "code",
   "execution_count": 6,
   "metadata": {},
   "outputs": [],
   "source": [
    "p_t_t=r'C:\\Program Files\\Tesseract-OCR\\tesseract.exe'"
   ]
  },
  {
   "cell_type": "code",
   "execution_count": 7,
   "metadata": {},
   "outputs": [],
   "source": [
    "p_t_i=r'../DS/Task2/'\n"
   ]
  },
  {
   "cell_type": "code",
   "execution_count": 8,
   "metadata": {},
   "outputs": [
    {
     "name": "stdout",
     "output_type": "stream",
     "text": [
      "AD HFD LIE,-EI1\n",
      "\n",
      "A- ., . _\n",
      "\n",
      "w EHP:l:IE;.-o‘?f23\n",
      "us? R2,.D.0?rrnk\n",
      "\n",
      "VIN; A\n",
      "\n",
      " \n",
      "\n",
      "\n",
      " \n",
      "\n",
      "\n",
      "ﬁkﬁwllob\n",
      "1‘ ’ ‘°\n",
      "U1 ’ \\\\ 7\n",
      "E Q\n",
      "0 ,0\n",
      "\n",
      "of all taxes) Batch No. 4;-,, H W»\n",
      "\n",
      " \n",
      "\n",
      "\n",
      " \n",
      "\n",
      "\n",
      "\"  La2',3 :L1':=1;L\n",
      "1 R!J5K1E11 .10 — “\n",
      ":up:aa,«o:~f'23, ‘3‘”w\"\"°\n",
      "\n",
      ". $   Q\n",
      "n,,gsI=‘s<z.:u.-372:3: 3 @ 5\n",
      "(lnduvve of all taxes) Batch No. ‘an H U!\n",
      "\n",
      " \n",
      "\n",
      "\n",
      "0! all taxes) Batch No. 'v»,, H ma’\n",
      "\n",
      " \n",
      "\n",
      "\n",
      "Bu HFIJ  L\n",
      "m  K5. -\"\"' K\n",
      "E‘.IlP:l'JE:x'U?/23 4“‘”\"'”b\n",
      "\n",
      "4\n",
      "\n",
      "- .£\n",
      "(lnduswe of all taxes) Batch No. «.3; H %\n",
      "\n",
      " \n",
      "\n",
      "\n"
     ]
    }
   ],
   "source": [
    "pytesseract.tesseract_cmd= p_t_t\n",
    "#Get the file names in the directory\n",
    "for root, dirs, file_names in os.walk(p_t_i):\n",
    "    #Iterate over each file name in the folder\n",
    "    for file_name in file_names:\n",
    "        #Open image with PIL\n",
    "        img = Image.open(p_t_i + file_name)\n",
    "\n",
    "        #Extract text from image\n",
    "        text = pytesseract.image_to_string(img,lang=\"eng\")\n",
    "\n",
    "        print(text)"
   ]
  }
 ],
 "metadata": {
  "kernelspec": {
   "display_name": "tenserflow",
   "language": "python",
   "name": "python3"
  },
  "language_info": {
   "codemirror_mode": {
    "name": "ipython",
    "version": 3
   },
   "file_extension": ".py",
   "mimetype": "text/x-python",
   "name": "python",
   "nbconvert_exporter": "python",
   "pygments_lexer": "ipython3",
   "version": "3.9.13"
  },
  "orig_nbformat": 4,
  "vscode": {
   "interpreter": {
    "hash": "9539c661234d93aa3bf316fa618be13b588bc5a2acd9d8d4668c9ce95f99e328"
   }
  }
 },
 "nbformat": 4,
 "nbformat_minor": 2
}
