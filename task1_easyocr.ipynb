{
 "cells": [
  {
   "cell_type": "code",
   "execution_count": 1,
   "metadata": {},
   "outputs": [],
   "source": [
    "import os\n",
    "from matplotlib import pyplot as plt\n",
    "import numpy as np\n",
    "import easyocr\n",
    "import cv2\n",
    "from PIL import Image\n"
   ]
  },
  {
   "cell_type": "code",
   "execution_count": 4,
   "metadata": {},
   "outputs": [],
   "source": [
    "IMAGE_PATH = '../DS/Task1/'\n"
   ]
  },
  {
   "cell_type": "code",
   "execution_count": 5,
   "metadata": {},
   "outputs": [
    {
     "name": "stderr",
     "output_type": "stream",
     "text": [
      "CUDA not available - defaulting to CPU. Note: This module is much faster with a GPU.\n"
     ]
    },
    {
     "name": "stdout",
     "output_type": "stream",
     "text": [
      "<PIL.PngImagePlugin.PngImageFile image mode=RGBA size=1141x741 at 0x208B73FB5B0>\n"
     ]
    },
    {
     "ename": "ValueError",
     "evalue": "Invalid input type. Supporting format = string(file path or url), bytes, numpy array",
     "output_type": "error",
     "traceback": [
      "\u001b[1;31m---------------------------------------------------------------------------\u001b[0m",
      "\u001b[1;31mValueError\u001b[0m                                Traceback (most recent call last)",
      "\u001b[1;32me:\\resoluteai\\DS\\task1_easyocr.ipynb Cell 3\u001b[0m in \u001b[0;36m<cell line: 5>\u001b[1;34m()\u001b[0m\n\u001b[0;32m     <a href='vscode-notebook-cell:/e%3A/resoluteai/DS/task1_easyocr.ipynb#W2sZmlsZQ%3D%3D?line=9'>10</a>\u001b[0m \u001b[39mprint\u001b[39m(img)\n\u001b[0;32m     <a href='vscode-notebook-cell:/e%3A/resoluteai/DS/task1_easyocr.ipynb#W2sZmlsZQ%3D%3D?line=10'>11</a>\u001b[0m \u001b[39m#Extract text from image\u001b[39;00m\n\u001b[1;32m---> <a href='vscode-notebook-cell:/e%3A/resoluteai/DS/task1_easyocr.ipynb#W2sZmlsZQ%3D%3D?line=11'>12</a>\u001b[0m text \u001b[39m=\u001b[39m reader\u001b[39m.\u001b[39;49mreadtext(img,paragraph\u001b[39m=\u001b[39;49m\u001b[39mFalse\u001b[39;49;00m)\n\u001b[0;32m     <a href='vscode-notebook-cell:/e%3A/resoluteai/DS/task1_easyocr.ipynb#W2sZmlsZQ%3D%3D?line=13'>14</a>\u001b[0m \u001b[39mprint\u001b[39m(text)\n\u001b[0;32m     <a href='vscode-notebook-cell:/e%3A/resoluteai/DS/task1_easyocr.ipynb#W2sZmlsZQ%3D%3D?line=14'>15</a>\u001b[0m \u001b[39mprint\u001b[39m(\u001b[39m\"\u001b[39m\u001b[39m------------------------------------------------\u001b[39m\u001b[39m\"\u001b[39m)\n",
      "File \u001b[1;32mc:\\Users\\ASUS\\AppData\\Local\\Programs\\Python\\Python310\\lib\\site-packages\\easyocr\\easyocr.py:442\u001b[0m, in \u001b[0;36mReader.readtext\u001b[1;34m(self, image, decoder, beamWidth, batch_size, workers, allowlist, blocklist, detail, rotation_info, paragraph, min_size, contrast_ths, adjust_contrast, filter_ths, text_threshold, low_text, link_threshold, canvas_size, mag_ratio, slope_ths, ycenter_ths, height_ths, width_ths, y_ths, x_ths, add_margin, threshold, bbox_min_score, bbox_min_size, max_candidates, output_format)\u001b[0m\n\u001b[0;32m    428\u001b[0m \u001b[39mdef\u001b[39;00m \u001b[39mreadtext\u001b[39m(\u001b[39mself\u001b[39m, image, decoder \u001b[39m=\u001b[39m \u001b[39m'\u001b[39m\u001b[39mgreedy\u001b[39m\u001b[39m'\u001b[39m, beamWidth\u001b[39m=\u001b[39m \u001b[39m5\u001b[39m, batch_size \u001b[39m=\u001b[39m \u001b[39m1\u001b[39m,\\\n\u001b[0;32m    429\u001b[0m              workers \u001b[39m=\u001b[39m \u001b[39m0\u001b[39m, allowlist \u001b[39m=\u001b[39m \u001b[39mNone\u001b[39;00m, blocklist \u001b[39m=\u001b[39m \u001b[39mNone\u001b[39;00m, detail \u001b[39m=\u001b[39m \u001b[39m1\u001b[39m,\\\n\u001b[0;32m    430\u001b[0m              rotation_info \u001b[39m=\u001b[39m \u001b[39mNone\u001b[39;00m, paragraph \u001b[39m=\u001b[39m \u001b[39mFalse\u001b[39;00m, min_size \u001b[39m=\u001b[39m \u001b[39m20\u001b[39m,\\\n\u001b[1;32m   (...)\u001b[0m\n\u001b[0;32m    436\u001b[0m              threshold \u001b[39m=\u001b[39m \u001b[39m0.2\u001b[39m, bbox_min_score \u001b[39m=\u001b[39m \u001b[39m0.2\u001b[39m, bbox_min_size \u001b[39m=\u001b[39m \u001b[39m3\u001b[39m, max_candidates \u001b[39m=\u001b[39m \u001b[39m0\u001b[39m,\n\u001b[0;32m    437\u001b[0m              output_format\u001b[39m=\u001b[39m\u001b[39m'\u001b[39m\u001b[39mstandard\u001b[39m\u001b[39m'\u001b[39m):\n\u001b[0;32m    438\u001b[0m     \u001b[39m'''\u001b[39;00m\n\u001b[0;32m    439\u001b[0m \u001b[39m    Parameters:\u001b[39;00m\n\u001b[0;32m    440\u001b[0m \u001b[39m    image: file path or numpy-array or a byte stream object\u001b[39;00m\n\u001b[0;32m    441\u001b[0m \u001b[39m    '''\u001b[39;00m\n\u001b[1;32m--> 442\u001b[0m     img, img_cv_grey \u001b[39m=\u001b[39m reformat_input(image)\n\u001b[0;32m    444\u001b[0m     horizontal_list, free_list \u001b[39m=\u001b[39m \u001b[39mself\u001b[39m\u001b[39m.\u001b[39mdetect(img, \n\u001b[0;32m    445\u001b[0m                                              min_size \u001b[39m=\u001b[39m min_size, text_threshold \u001b[39m=\u001b[39m text_threshold,\\\n\u001b[0;32m    446\u001b[0m                                              low_text \u001b[39m=\u001b[39m low_text, link_threshold \u001b[39m=\u001b[39m link_threshold,\\\n\u001b[1;32m   (...)\u001b[0m\n\u001b[0;32m    452\u001b[0m                                              bbox_min_size \u001b[39m=\u001b[39m bbox_min_size, max_candidates \u001b[39m=\u001b[39m max_candidates\n\u001b[0;32m    453\u001b[0m                                              )\n\u001b[0;32m    454\u001b[0m     \u001b[39m# get the 1st result from hor & free list as self.detect returns a list of depth 3\u001b[39;00m\n",
      "File \u001b[1;32mc:\\Users\\ASUS\\AppData\\Local\\Programs\\Python\\Python310\\lib\\site-packages\\easyocr\\utils.py:725\u001b[0m, in \u001b[0;36mreformat_input\u001b[1;34m(image)\u001b[0m\n\u001b[0;32m    723\u001b[0m     img_cv_grey \u001b[39m=\u001b[39m cv2\u001b[39m.\u001b[39mcvtColor(img, cv2\u001b[39m.\u001b[39mCOLOR_BGR2GRAY)\n\u001b[0;32m    724\u001b[0m \u001b[39melse\u001b[39;00m:\n\u001b[1;32m--> 725\u001b[0m     \u001b[39mraise\u001b[39;00m \u001b[39mValueError\u001b[39;00m(\u001b[39m'\u001b[39m\u001b[39mInvalid input type. Supporting format = string(file path or url), bytes, numpy array\u001b[39m\u001b[39m'\u001b[39m)\n\u001b[0;32m    727\u001b[0m \u001b[39mreturn\u001b[39;00m img, img_cv_grey\n",
      "\u001b[1;31mValueError\u001b[0m: Invalid input type. Supporting format = string(file path or url), bytes, numpy array"
     ]
    }
   ],
   "source": [
    "reader = easyocr.Reader(['en'])\n",
    "# result = reader.readtext(IMAGE_PATH,paragraph=\"False\")\n",
    "# result\n",
    "#Get the file names in the directory\n",
    "for root, dirs, file_names in os.walk(IMAGE_PATH):\n",
    "    #Iterate over each file name in the folder\n",
    "    for file_name in file_names:\n",
    "        #Open image with PIL\n",
    "        img = Image.open(str(IMAGE_PATH + file_name))\n",
    "        print(img)\n",
    "        #Extract text from image\n",
    "        text = reader.readtext(img,paragraph=False)\n",
    "\n",
    "        print(text)\n",
    "        print(\"------------------------------------------------\")"
   ]
  }
 ],
 "metadata": {
  "kernelspec": {
   "display_name": "Python 3",
   "language": "python",
   "name": "python3"
  },
  "language_info": {
   "codemirror_mode": {
    "name": "ipython",
    "version": 3
   },
   "file_extension": ".py",
   "mimetype": "text/x-python",
   "name": "python",
   "nbconvert_exporter": "python",
   "pygments_lexer": "ipython3",
   "version": "3.10.2"
  },
  "orig_nbformat": 4,
  "vscode": {
   "interpreter": {
    "hash": "27f6fea6f47ae512550f0b8facdbd035a93e1dd89633f7bf2dd00a2502c71d0d"
   }
  }
 },
 "nbformat": 4,
 "nbformat_minor": 2
}
