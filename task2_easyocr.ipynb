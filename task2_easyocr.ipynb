{
 "cells": [
  {
   "cell_type": "code",
   "execution_count": 1,
   "metadata": {},
   "outputs": [],
   "source": [
    "import os\n",
    "from matplotlib import pyplot as plt\n",
    "import numpy as np\n",
    "import easyocr\n",
    "import cv2\n",
    "from PIL import Image\n"
   ]
  },
  {
   "cell_type": "code",
   "execution_count": 2,
   "metadata": {},
   "outputs": [],
   "source": [
    "IMAGE_PATH = '../DS/Task2/'\n"
   ]
  },
  {
   "cell_type": "code",
   "execution_count": 3,
   "metadata": {},
   "outputs": [
    {
     "name": "stderr",
     "output_type": "stream",
     "text": [
      "CUDA not available - defaulting to CPU. Note: This module is much faster with a GPU.\n"
     ]
    },
    {
     "name": "stdout",
     "output_type": "stream",
     "text": [
      "[[[[223, 496], [1065, 496], [1065, 871], [223, 871]], \"BQ NFD QE/Ql23 1742 Bn AOFRIGIT Rs,@0 EXP:0B/07-23 ( WtO _ USF R2.0.0? / [1 MRPRs 8 (Undlusive of all taxes) Batch No. 'AFTEA` USE '\"]]\n",
      "------------------------------------------------\n",
      "[[[[124, 511], [971, 511], [971, 875], [124, 875]], 'Bp_HED IE01/2317id2 GN AQSKIGit Rs.107 Exp:0g/07/23 ( Wto _ IpKsf Rz.0.0?/74 3 dndusive of all taxes) Batch No; \" I \\'AFTeA` UsE']]\n",
      "------------------------------------------------\n",
      "[[[[56, 512], [900, 512], [900, 871], [56, 871]], \"BpHED_nG0ic23 17442 Ex poskigu Rs,@0 =  STRAW EXP 0g/07723 WTO  Insh Ra.0.o7/T4 { 3 Mdrie cfall taxes) Batch No, 3 'AFTER USE'\"]]\n",
      "------------------------------------------------\n",
      "[[[[124, 511], [971, 511], [971, 875], [124, 875]], 'Bp_HED IE01/2317id2 GN AQSKIGit Rs.107 Exp:0g/07/23 ( Wto _ IpKsf Rz.0.0?/74 3 dndusive of all taxes) Batch No; \" I \\'AFTeA` UsE']]\n",
      "------------------------------------------------\n",
      "[[[[233, 510], [1076, 510], [1076, 867], [233, 867]], 'BDHED DE0lz23 1242 BH AQSKIGI Rs,10/ EXP 0B/07723 STRAW Wto  MRp Use Ra.n07 11 { 3 (Indusive ol all taxes) Batch Na, AFTER USE']]\n",
      "------------------------------------------------\n",
      "[[[[66, 518], [903, 518], [903, 887], [66, 887]], \"EnHED [E/Q123 17d2 Dx Nosrigt R: 107 EXP 0g/07-23 STRAW WTO  USF Ra.0.0? /ml Ur { 3 Eirite ol all taxes) Batch No; 'AfteR USE\"]]\n",
      "------------------------------------------------\n",
      "[[[[327, 514], [1168, 514], [1168, 885], [327, 885]], \"BD_MFD (IE01z23 17d2 BTI osrg R:,10/ ExP:0 07-23 STRAW WtO, PI  = R2.0.0? /ml MRPT { 7 (Incusive of all taxes) Batch Na, 'AfteR ` 'US6'\"]]\n",
      "------------------------------------------------\n"
     ]
    }
   ],
   "source": [
    "reader = easyocr.Reader(['en'])\n",
    "# result = reader.readtext(IMAGE_PATH,paragraph=\"False\")\n",
    "# result\n",
    "#Get the file names in the directory\n",
    "for root, dirs, file_names in os.walk(IMAGE_PATH):\n",
    "    #Iterate over each file name in the folder\n",
    "    for file_name in file_names:\n",
    "        #Open image with PIL\n",
    "        img = Image.open(IMAGE_PATH + file_name)\n",
    "\n",
    "        #Extract text from image\n",
    "        text = reader.readtext(img,paragraph=True)\n",
    "\n",
    "        print(text)\n",
    "        print(\"------------------------------------------------\")"
   ]
  }
 ],
 "metadata": {
  "kernelspec": {
   "display_name": "Python 3",
   "language": "python",
   "name": "python3"
  },
  "language_info": {
   "codemirror_mode": {
    "name": "ipython",
    "version": 3
   },
   "file_extension": ".py",
   "mimetype": "text/x-python",
   "name": "python",
   "nbconvert_exporter": "python",
   "pygments_lexer": "ipython3",
   "version": "3.10.2"
  },
  "orig_nbformat": 4,
  "vscode": {
   "interpreter": {
    "hash": "27f6fea6f47ae512550f0b8facdbd035a93e1dd89633f7bf2dd00a2502c71d0d"
   }
  }
 },
 "nbformat": 4,
 "nbformat_minor": 2
}
